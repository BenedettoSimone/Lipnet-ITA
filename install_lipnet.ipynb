{
 "cells": [
  {
   "cell_type": "code",
   "execution_count": 1,
   "metadata": {
    "collapsed": true
   },
   "outputs": [
    {
     "name": "stdout",
     "output_type": "stream",
     "text": [
      "Python 2.7.18\r\n"
     ]
    }
   ],
   "source": [
    "!python -V"
   ]
  },
  {
   "cell_type": "code",
   "execution_count": 2,
   "outputs": [
    {
     "name": "stdout",
     "output_type": "stream",
     "text": [
      "Cloning into 'LipNet'...\r\n",
      "remote: Enumerating objects: 352, done.\u001B[K\r\n",
      "remote: Counting objects: 100% (9/9), done.\u001B[K\r\n",
      "remote: Compressing objects: 100% (8/8), done.\u001B[K\r\n",
      "remote: Total 352 (delta 4), reused 2 (delta 1), pack-reused 343\u001B[Kg objects:  10% (36/352), 20.36 MiB | 1.19 MiB/sReceiving objects:  10% (36/352), 22.33 MiB | 1.00 MiB/sReceiving objects:  10% (36/352), 24.21 MiB | 807.00 KiB/sReceiving objects:  10% (36/352), 25.58 MiB | 728.00 KiB/sReceiving objects:  10% (36/352), 27.03 MiB | 745.00 KiB/sReceiving objects:  10% (36/352), 28.49 MiB | 733.00 KiB/sReceiving objects:  10% (36/352), 30.54 MiB | 872.00 KiB/sReceiving objects:  10% (36/352), 32.94 MiB | 1.06 MiB/s  Receiving objects:  10% (36/352), 35.31 MiB | 1.18 MiB/sReceiving objects:  10% (36/352), 37.68 MiB | 1.18 MiB/sReceiving objects:  10% (36/352), 40.05 MiB | 1.18 MiB/sReceiving objects:  10% (36/352), 42.42 MiB | 1.18 MiB/sReceiving objects:  10% (36/352), 45.83 MiB | 1.14 MiB/s  Receiving objects:  10% (36/352), 48.04 MiB | 1.11 MiB/sReceiving objects:  10% (36/352), 50.14 MiB | 1.28 MiB/s  Receiving objects:  10% (36/352), 52.40 MiB | 1.10 MiB/sReceiving objects:  10% (36/352), 54.71 MiB | 1.28 MiB/sReceiving objects:  10% (36/352), 57.09 MiB | 1.16 MiB/sReceiving objects:  10% (36/352), 59.45 MiB | 1.18 MiB/sReceiving objects:  10% (36/352), 61.83 MiB | 1.18 MiB/sReceiving objects:  10% (36/352), 64.22 MiB | 1.18 MiB/sReceiving objects:  10% (36/352), 66.60 MiB | 1.18 MiB/sReceiving objects:  10% (36/352), 69.68 MiB | 1.18 MiB/s  Receiving objects:  10% (36/352), 72.08 MiB | 1.19 MiB/sReceiving objects:  10% (38/352), 74.46 MiB | 1.35 MiB/sReceiving objects:  10% (38/352), 76.51 MiB | 1.04 MiB/s   Receiving objects:  10% (38/352), 79.03 MiB | 1.18 MiB/sReceiving objects:  10% (38/352), 81.40 MiB | 1.18 MiB/sReceiving objects:  10% (38/352), 83.78 MiB | 1.18 MiB/sReceiving objects:  10% (38/352), 86.16 MiB | 1.18 MiB/sReceiving objects:  10% (38/352), 88.54 MiB | 1.18 MiB/sReceiving objects:  11% (39/352), 89.72 MiB | 1.18 MiB/sReceiving objects:  11% (39/352), 92.11 MiB | 1.18 MiB/sReceiving objects:  11% (39/352), 94.49 MiB | 1.18 MiB/sReceiving objects:  11% (39/352), 96.61 MiB | 855.00 KiB/sReceiving objects:  11% (39/352), 97.81 MiB | 788.00 KiB/sReceiving objects:  11% (39/352), 99.62 MiB | 730.00 KiB/sReceiving objects:  11% (39/352), 101.04 MiB | 803.00 KiB/sReceiving objects:  11% (39/352), 102.25 MiB | 707.00 KiB/sReceiving objects:  11% (39/352), 103.93 MiB | 722.00 KiB/sReceiving objects:  11% (40/352), 105.70 MiB | 908.00 KiB/sReceiving objects:  13% (46/352), 108.08 MiB | 1.14 MiB/sReceiving objects:  13% (49/352), 109.26 MiB | 1.18 MiB/sReceiving objects:  15% (53/352), 109.85 MiB | 1.18 MiB/sReceiving objects:  18% (64/352), 109.85 MiB | 1.18 MiB/sReceiving objects:  21% (74/352), 109.85 MiB | 1.18 MiB/sReceiving objects:  24% (85/352), 109.85 MiB | 1.18 MiB/sReceiving objects:  26% (92/352), 109.85 MiB | 1.18 MiB/sReceiving objects:  29% (103/352), 110.44 MiB | 1.18 MiB/sReceiving objects:  31% (110/352), 110.44 MiB | 1.18 MiB/sReceiving objects:  34% (120/352), 110.44 MiB | 1.18 MiB/sReceiving objects:  37% (131/352), 110.44 MiB | 1.18 MiB/sReceiving objects:  48% (169/352), 110.44 MiB | 1.18 MiB/sReceiving objects:  64% (226/352), 112.23 MiB | 1.18 MiB/sReceiving objects:  64% (226/352), 114.59 MiB | 1.17 MiB/sReceiving objects:  64% (226/352), 116.96 MiB | 1.17 MiB/sReceiving objects:  64% (226/352), 118.27 MiB | 1.05 MiB/s  Receiving objects:  64% (226/352), 121.32 MiB | 1.18 MiB/sReceiving objects:  64% (226/352), 123.70 MiB | 1.42 MiB/sReceiving objects:  65% (229/352), 125.48 MiB | 1.18 MiB/s\r\n",
      "Receiving objects: 100% (352/352), 125.85 MiB | 1.08 MiB/s, done.\r\n",
      "Resolving deltas: 100% (129/129), done.\r\n",
      "Updating files: 100% (134/134), done.\r\n"
     ]
    }
   ],
   "source": [
    "!git clone https://github.com/rizkiarm/LipNet.git"
   ],
   "metadata": {
    "collapsed": false,
    "pycharm": {
     "name": "#%%\n"
    }
   }
  },
  {
   "cell_type": "code",
   "execution_count": null,
   "outputs": [],
   "source": [
    "#delete dlib version in setup.py in Lipnet folder\n",
    "\n",
    "#install pip\n",
    "%python2 -m pip install --user --upgrade pip\n",
    "\n",
    "\n",
    "#execute those command in terminal\n",
    "#dlib e cmake last version\n",
    "%cd LipNet/\n",
    "%pip install -e .\n"
   ],
   "metadata": {
    "collapsed": false,
    "pycharm": {
     "name": "#%%\n"
    }
   }
  },
  {
   "cell_type": "code",
   "execution_count": null,
   "outputs": [],
   "source": [],
   "metadata": {
    "collapsed": false,
    "pycharm": {
     "name": "#%%\n"
    }
   }
  }
 ],
 "metadata": {
  "kernelspec": {
   "display_name": "Python 3",
   "language": "python",
   "name": "python3"
  },
  "language_info": {
   "codemirror_mode": {
    "name": "ipython",
    "version": 2
   },
   "file_extension": ".py",
   "mimetype": "text/x-python",
   "name": "python",
   "nbconvert_exporter": "python",
   "pygments_lexer": "ipython2",
   "version": "2.7.6"
  }
 },
 "nbformat": 4,
 "nbformat_minor": 0
}