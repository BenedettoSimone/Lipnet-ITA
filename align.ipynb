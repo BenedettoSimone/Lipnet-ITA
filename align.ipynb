{
 "cells": [
  {
   "cell_type": "code",
   "execution_count": 31,
   "metadata": {
    "collapsed": true,
    "pycharm": {
     "name": "#%%\n"
    }
   },
   "outputs": [
    {
     "name": "stdout",
     "output_type": "stream",
     "text": [
      "\n",
      "\n",
      "\n",
      "\n",
      "\n",
      "\n",
      "\n",
      "\n"
     ]
    }
   ],
   "source": [
    "import json\n",
    "\n",
    "# Iterating through the json\n",
    "# list\n",
    "def write_file(file):\n",
    "    for i in data['fragments']:\n",
    "\n",
    "        begin = int((float(i['begin']) * 25) * 1000)\n",
    "        end = int((float(i['end']) * 25) * 1000)\n",
    "        print()\n",
    "        if file is not None:\n",
    "         file.write(str(begin) + \" \" + str(end) + \" \" + i['lines'][0] +\"\\n\")\n",
    "\n",
    "# Opening JSON file\n",
    "f = open('align.json')\n",
    "\n",
    "# returns JSON object as\n",
    "# a dictionary\n",
    "data = json.load(f)\n",
    "\n",
    "with open(\"file.align\", 'w+') as file:\n",
    "    write_file(file)\n",
    "\n",
    "\n",
    "# Closing file\n",
    "f.close()"
   ]
  }
 ],
 "metadata": {
  "kernelspec": {
   "display_name": "Python 3",
   "language": "python",
   "name": "python3"
  },
  "language_info": {
   "codemirror_mode": {
    "name": "ipython",
    "version": 2
   },
   "file_extension": ".py",
   "mimetype": "text/x-python",
   "name": "python",
   "nbconvert_exporter": "python",
   "pygments_lexer": "ipython2",
   "version": "2.7.6"
  }
 },
 "nbformat": 4,
 "nbformat_minor": 0
}